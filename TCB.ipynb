{
 "cells": [
  {
   "cell_type": "code",
   "execution_count": 25,
   "id": "59520794",
   "metadata": {},
   "outputs": [],
   "source": [
    "import pandas as pd\n",
    "import os\n",
    "import matplotlib.pyplot as plt\n",
    "import numpy as np\n",
    "import seaborn as sns\n",
    "from datetime import datetime\n",
    "sns.set()\n",
    "\n",
    "path = \"C:/Users/User/Downloads/Technical test_DA 2023/Technical test_DA 2023/\"\n",
    "file_name = \"TCB.xlsx\""
   ]
  },
  {
   "cell_type": "code",
   "execution_count": 26,
   "id": "a838ffc5",
   "metadata": {
    "scrolled": true
   },
   "outputs": [
    {
     "data": {
      "text/plain": [
       "Movie                      object\n",
       "Release Date       datetime64[ns]\n",
       "Critic 1                  float64\n",
       "Critic 2                  float64\n",
       "Critic 3                  float64\n",
       "Critic 4                  float64\n",
       "Critic 5                  float64\n",
       "Audience Rating           float64\n",
       "dtype: object"
      ]
     },
     "execution_count": 26,
     "metadata": {},
     "output_type": "execute_result"
    }
   ],
   "source": [
    "df = pd.read_excel(path +file_name)\n",
    "df\n",
    "df.dtypes"
   ]
  },
  {
   "cell_type": "markdown",
   "id": "5e9c1279",
   "metadata": {},
   "source": [
    "# Analytic"
   ]
  },
  {
   "cell_type": "code",
   "execution_count": 27,
   "id": "cd67788e",
   "metadata": {},
   "outputs": [
    {
     "data": {
      "text/plain": [
       "Movie                      object\n",
       "Release Date       datetime64[ns]\n",
       "Critic 1                  float64\n",
       "Critic 2                  float64\n",
       "Critic 3                  float64\n",
       "Critic 4                  float64\n",
       "Critic 5                  float64\n",
       "Audience Rating           float64\n",
       "dtype: object"
      ]
     },
     "execution_count": 27,
     "metadata": {},
     "output_type": "execute_result"
    }
   ],
   "source": [
    "cols = df.columns.drop(['Movie', 'Release Date'])\n",
    "df[cols] = df[cols].apply(pd.to_numeric)\n",
    "df.dtypes"
   ]
  },
  {
   "cell_type": "markdown",
   "id": "7201c37e",
   "metadata": {},
   "source": [
    "For question 1, I compute the average critics rating for each film "
   ]
  },
  {
   "cell_type": "code",
   "execution_count": 28,
   "id": "ae294f34",
   "metadata": {},
   "outputs": [
    {
     "data": {
      "text/html": [
       "<div>\n",
       "<style scoped>\n",
       "    .dataframe tbody tr th:only-of-type {\n",
       "        vertical-align: middle;\n",
       "    }\n",
       "\n",
       "    .dataframe tbody tr th {\n",
       "        vertical-align: top;\n",
       "    }\n",
       "\n",
       "    .dataframe thead th {\n",
       "        text-align: right;\n",
       "    }\n",
       "</style>\n",
       "<table border=\"1\" class=\"dataframe\">\n",
       "  <thead>\n",
       "    <tr style=\"text-align: right;\">\n",
       "      <th></th>\n",
       "      <th>Movie</th>\n",
       "      <th>Release Date</th>\n",
       "      <th>Critic 1</th>\n",
       "      <th>Critic 2</th>\n",
       "      <th>Critic 3</th>\n",
       "      <th>Critic 4</th>\n",
       "      <th>Critic 5</th>\n",
       "      <th>Audience Rating</th>\n",
       "      <th>Average Critics Rating</th>\n",
       "    </tr>\n",
       "  </thead>\n",
       "  <tbody>\n",
       "    <tr>\n",
       "      <th>0</th>\n",
       "      <td>Iron Man</td>\n",
       "      <td>2008-05-02</td>\n",
       "      <td>4.0</td>\n",
       "      <td>4.0</td>\n",
       "      <td>7.0</td>\n",
       "      <td>6.0</td>\n",
       "      <td>5.0</td>\n",
       "      <td>9.1</td>\n",
       "      <td>5.200000</td>\n",
       "    </tr>\n",
       "    <tr>\n",
       "      <th>1</th>\n",
       "      <td>The Incredible Hulk</td>\n",
       "      <td>2008-06-13</td>\n",
       "      <td>NaN</td>\n",
       "      <td>NaN</td>\n",
       "      <td>6.0</td>\n",
       "      <td>3.0</td>\n",
       "      <td>5.0</td>\n",
       "      <td>7.0</td>\n",
       "      <td>4.666667</td>\n",
       "    </tr>\n",
       "    <tr>\n",
       "      <th>2</th>\n",
       "      <td>Iron Man 2</td>\n",
       "      <td>2010-05-07</td>\n",
       "      <td>3.0</td>\n",
       "      <td>6.0</td>\n",
       "      <td>8.0</td>\n",
       "      <td>6.0</td>\n",
       "      <td>5.0</td>\n",
       "      <td>7.1</td>\n",
       "      <td>5.600000</td>\n",
       "    </tr>\n",
       "    <tr>\n",
       "      <th>3</th>\n",
       "      <td>Thor</td>\n",
       "      <td>2011-05-06</td>\n",
       "      <td>NaN</td>\n",
       "      <td>4.0</td>\n",
       "      <td>6.0</td>\n",
       "      <td>8.0</td>\n",
       "      <td>5.0</td>\n",
       "      <td>7.6</td>\n",
       "      <td>5.750000</td>\n",
       "    </tr>\n",
       "    <tr>\n",
       "      <th>4</th>\n",
       "      <td>Captain America: The First Avenger</td>\n",
       "      <td>2011-07-22</td>\n",
       "      <td>5.0</td>\n",
       "      <td>5.0</td>\n",
       "      <td>NaN</td>\n",
       "      <td>7.0</td>\n",
       "      <td>7.0</td>\n",
       "      <td>7.5</td>\n",
       "      <td>6.000000</td>\n",
       "    </tr>\n",
       "  </tbody>\n",
       "</table>\n",
       "</div>"
      ],
      "text/plain": [
       "                                Movie Release Date  Critic 1  Critic 2  \\\n",
       "0                            Iron Man   2008-05-02       4.0       4.0   \n",
       "1                 The Incredible Hulk   2008-06-13       NaN       NaN   \n",
       "2                          Iron Man 2   2010-05-07       3.0       6.0   \n",
       "3                                Thor   2011-05-06       NaN       4.0   \n",
       "4  Captain America: The First Avenger   2011-07-22       5.0       5.0   \n",
       "\n",
       "   Critic 3  Critic 4  Critic 5  Audience Rating  Average Critics Rating  \n",
       "0       7.0       6.0       5.0              9.1                5.200000  \n",
       "1       6.0       3.0       5.0              7.0                4.666667  \n",
       "2       8.0       6.0       5.0              7.1                5.600000  \n",
       "3       6.0       8.0       5.0              7.6                5.750000  \n",
       "4       NaN       7.0       7.0              7.5                6.000000  "
      ]
     },
     "execution_count": 28,
     "metadata": {},
     "output_type": "execute_result"
    }
   ],
   "source": [
    "df['Average Critics Rating'] = df.iloc[:, 2:7].mean(axis='columns')\n",
    "df.head()"
   ]
  },
  {
   "cell_type": "markdown",
   "id": "5d5504f0",
   "metadata": {},
   "source": [
    "For question 2, to begin with, I want to look at the data from an overall perspective."
   ]
  },
  {
   "cell_type": "code",
   "execution_count": 29,
   "id": "0dd3d3e6",
   "metadata": {},
   "outputs": [
    {
     "data": {
      "text/html": [
       "<div>\n",
       "<style scoped>\n",
       "    .dataframe tbody tr th:only-of-type {\n",
       "        vertical-align: middle;\n",
       "    }\n",
       "\n",
       "    .dataframe tbody tr th {\n",
       "        vertical-align: top;\n",
       "    }\n",
       "\n",
       "    .dataframe thead th {\n",
       "        text-align: right;\n",
       "    }\n",
       "</style>\n",
       "<table border=\"1\" class=\"dataframe\">\n",
       "  <thead>\n",
       "    <tr style=\"text-align: right;\">\n",
       "      <th></th>\n",
       "      <th>Critic 1</th>\n",
       "      <th>Critic 2</th>\n",
       "      <th>Critic 3</th>\n",
       "      <th>Critic 4</th>\n",
       "      <th>Critic 5</th>\n",
       "      <th>Audience Rating</th>\n",
       "      <th>Average Critics Rating</th>\n",
       "    </tr>\n",
       "  </thead>\n",
       "  <tbody>\n",
       "    <tr>\n",
       "      <th>count</th>\n",
       "      <td>15.000000</td>\n",
       "      <td>18.000000</td>\n",
       "      <td>19.000000</td>\n",
       "      <td>17.000000</td>\n",
       "      <td>16.000000</td>\n",
       "      <td>22.000000</td>\n",
       "      <td>22.000000</td>\n",
       "    </tr>\n",
       "    <tr>\n",
       "      <th>mean</th>\n",
       "      <td>4.800000</td>\n",
       "      <td>6.555556</td>\n",
       "      <td>7.473684</td>\n",
       "      <td>7.058824</td>\n",
       "      <td>6.750000</td>\n",
       "      <td>8.186364</td>\n",
       "      <td>6.568939</td>\n",
       "    </tr>\n",
       "    <tr>\n",
       "      <th>std</th>\n",
       "      <td>1.656157</td>\n",
       "      <td>2.148111</td>\n",
       "      <td>1.389181</td>\n",
       "      <td>1.919329</td>\n",
       "      <td>2.081666</td>\n",
       "      <td>1.080254</td>\n",
       "      <td>1.325286</td>\n",
       "    </tr>\n",
       "    <tr>\n",
       "      <th>min</th>\n",
       "      <td>3.000000</td>\n",
       "      <td>3.000000</td>\n",
       "      <td>5.000000</td>\n",
       "      <td>3.000000</td>\n",
       "      <td>4.000000</td>\n",
       "      <td>4.500000</td>\n",
       "      <td>4.500000</td>\n",
       "    </tr>\n",
       "    <tr>\n",
       "      <th>25%</th>\n",
       "      <td>3.000000</td>\n",
       "      <td>5.000000</td>\n",
       "      <td>6.000000</td>\n",
       "      <td>6.000000</td>\n",
       "      <td>5.000000</td>\n",
       "      <td>7.650000</td>\n",
       "      <td>5.525000</td>\n",
       "    </tr>\n",
       "    <tr>\n",
       "      <th>50%</th>\n",
       "      <td>5.000000</td>\n",
       "      <td>6.500000</td>\n",
       "      <td>8.000000</td>\n",
       "      <td>7.000000</td>\n",
       "      <td>6.000000</td>\n",
       "      <td>8.550000</td>\n",
       "      <td>6.541667</td>\n",
       "    </tr>\n",
       "    <tr>\n",
       "      <th>75%</th>\n",
       "      <td>6.500000</td>\n",
       "      <td>8.000000</td>\n",
       "      <td>8.500000</td>\n",
       "      <td>9.000000</td>\n",
       "      <td>8.250000</td>\n",
       "      <td>8.975000</td>\n",
       "      <td>7.950000</td>\n",
       "    </tr>\n",
       "    <tr>\n",
       "      <th>max</th>\n",
       "      <td>7.000000</td>\n",
       "      <td>10.000000</td>\n",
       "      <td>10.000000</td>\n",
       "      <td>10.000000</td>\n",
       "      <td>10.000000</td>\n",
       "      <td>9.200000</td>\n",
       "      <td>9.000000</td>\n",
       "    </tr>\n",
       "  </tbody>\n",
       "</table>\n",
       "</div>"
      ],
      "text/plain": [
       "        Critic 1   Critic 2   Critic 3   Critic 4   Critic 5  Audience Rating  \\\n",
       "count  15.000000  18.000000  19.000000  17.000000  16.000000        22.000000   \n",
       "mean    4.800000   6.555556   7.473684   7.058824   6.750000         8.186364   \n",
       "std     1.656157   2.148111   1.389181   1.919329   2.081666         1.080254   \n",
       "min     3.000000   3.000000   5.000000   3.000000   4.000000         4.500000   \n",
       "25%     3.000000   5.000000   6.000000   6.000000   5.000000         7.650000   \n",
       "50%     5.000000   6.500000   8.000000   7.000000   6.000000         8.550000   \n",
       "75%     6.500000   8.000000   8.500000   9.000000   8.250000         8.975000   \n",
       "max     7.000000  10.000000  10.000000  10.000000  10.000000         9.200000   \n",
       "\n",
       "       Average Critics Rating  \n",
       "count               22.000000  \n",
       "mean                 6.568939  \n",
       "std                  1.325286  \n",
       "min                  4.500000  \n",
       "25%                  5.525000  \n",
       "50%                  6.541667  \n",
       "75%                  7.950000  \n",
       "max                  9.000000  "
      ]
     },
     "execution_count": 29,
     "metadata": {},
     "output_type": "execute_result"
    }
   ],
   "source": [
    "df.describe()"
   ]
  },
  {
   "cell_type": "code",
   "execution_count": 30,
   "id": "3b0042e3",
   "metadata": {},
   "outputs": [
    {
     "name": "stdout",
     "output_type": "stream",
     "text": [
      "Index(['Critic 1', 'Critic 2', 'Critic 3', 'Critic 4', 'Critic 5'], dtype='object')\n",
      "Critic 1    4.800000\n",
      "Critic 2    6.555556\n",
      "Critic 3    7.473684\n",
      "Critic 4    7.058824\n",
      "Critic 5    6.750000\n",
      "dtype: float64\n"
     ]
    }
   ],
   "source": [
    "critic_list = df.iloc[:, 2:7].columns\n",
    "print(critic_list)\n",
    "critic_mean = df.iloc[:, 2:7].mean(axis=0)\n",
    "print(critic_mean)"
   ]
  },
  {
   "cell_type": "markdown",
   "id": "8e0205d3",
   "metadata": {},
   "source": [
    "I decide to use Audience Rating mean, which is the red line, and Average Critic Rating mean, which is the green line, as 2 standards to categorize critics into there separated group. \n",
    "\n",
    "Group 1 is labeled Angle Critics, which consists of the critics having critic mean higher than the Audience Rating mean. As we can see from the chart below, there is no one belonging to this group.\n",
    "\n",
    "Group 2 is labeled Friendly Critics, which consists of the critics having critic mean lower than the Audience Rating mean but higher than Average Critic Rating mean. There are 3 critics in this group which are Critic 3, Critic 4 and Critic 5.\n",
    "\n",
    "Group 3 is labeled Harsh Critics, which consists of the critics having critic mean lower than Average Critic Rating mean. There are 2 critics in this group which are Critic 1 and Critic 2."
   ]
  },
  {
   "cell_type": "code",
   "execution_count": 31,
   "id": "a3ae55d6",
   "metadata": {},
   "outputs": [
    {
     "data": {
      "image/png": "[encoded data removed]",
      "text/plain": [
       "<Figure size 432x288 with 1 Axes>"
      ]
     },
     "metadata": {},
     "output_type": "display_data"
    }
   ],
   "source": [
    "plt.bar(x=critic_list, height=critic_mean)\n",
    "plt.ylabel(\"Mean rating\")\n",
    "plt.axhline(y=df['Audience Rating'].mean(), color='r')\n",
    "plt.axhline(y=df['Average Critics Rating'].mean(), color='g')\n",
    "plt.show()"
   ]
  },
  {
   "cell_type": "markdown",
   "id": "46711825",
   "metadata": {},
   "source": [
    "Going further, I decide to catetogize at a deeper level within each group by calculating the frequency when one critic rates higher than the Average Critics Rating."
   ]
  },
  {
   "cell_type": "code",
   "execution_count": 32,
   "id": "5046c100",
   "metadata": {},
   "outputs": [
    {
     "data": {
      "text/plain": [
       "[0, 9, 14, 9, 8]"
      ]
     },
     "execution_count": 32,
     "metadata": {},
     "output_type": "execute_result"
    }
   ],
   "source": [
    "pass_average =[]\n",
    "for i in range(1,6):\n",
    "    pass_average.append(sum(df['Critic ' +str(i)] > df['Average Critics Rating']))\n",
    "pass_average"
   ]
  },
  {
   "cell_type": "code",
   "execution_count": 33,
   "id": "55ebafe7",
   "metadata": {},
   "outputs": [
    {
     "data": {
      "text/plain": [
       "[0.0, 50.0, 73.68421052631578, 52.94117647058824, 50.0]"
      ]
     },
     "execution_count": 33,
     "metadata": {},
     "output_type": "execute_result"
    }
   ],
   "source": [
    "rating_count = df.iloc[:, 2:7].count()\n",
    "rating_count\n",
    "percent_pass_average = [i/j * 100 for i,j in zip(pass_average, rating_count)]\n",
    "percent_pass_average"
   ]
  },
  {
   "cell_type": "markdown",
   "id": "4cb7de5b",
   "metadata": {},
   "source": [
    "I use 3 standard lines which are at 30%, 50% and 70%. Below 30% is negative. Around 50% is neutral. Above 70% is positive."
   ]
  },
  {
   "cell_type": "code",
   "execution_count": 34,
   "id": "771c4ef9",
   "metadata": {},
   "outputs": [
    {
     "data": {
      "image/png": "[encoded data removed]",
      "text/plain": [
       "<Figure size 432x288 with 1 Axes>"
      ]
     },
     "metadata": {},
     "output_type": "display_data"
    }
   ],
   "source": [
    "plt.bar(x=critic_list, height=percent_pass_average)\n",
    "plt.ylabel(\"Percentage Pass Average\")\n",
    "plt.axhline(y=30, color='r')\n",
    "plt.axhline(y=50, color='orange')\n",
    "plt.axhline(y=70, color='g')\n",
    "plt.show()"
   ]
  },
  {
   "cell_type": "markdown",
   "id": "d83e7e3f",
   "metadata": {},
   "source": [
    "As we can see now from the chart, the ranking of the critics will identify their roles better within their group. To be more specific, in the Harsh Critic group, the percentage when Critic 1 rate higher than the Average Critics Rating is 0% which makes him/her the Extremely Harsh Critic. Similiarly, the Critic 2 has the percentage of rating higher than Average Critics Rating of 50%, which makes him/her the Moderately Harsh Critic. Furthermore, the Critic 3 in the Decent Critic group has the highest figure compared to the other two, which labels him/her as Significantly Friendly Critic. Similiarly, we can lablel Critic 4 and Critic 5 as Moderately Friendly Critic since their percentages are bigger than 50% and quite the same."
   ]
  },
  {
   "cell_type": "markdown",
   "id": "07352642",
   "metadata": {},
   "source": [
    "# Modelling"
   ]
  },
  {
   "cell_type": "markdown",
   "id": "cafa6510",
   "metadata": {},
   "source": [
    "Normalize the values for the critics and transform values to z-scores"
   ]
  },
  {
   "cell_type": "code",
   "execution_count": 35,
   "id": "a0c92d19",
   "metadata": {
    "scrolled": true
   },
   "outputs": [
    {
     "data": {
      "text/html": [
       "<div>\n",
       "<style scoped>\n",
       "    .dataframe tbody tr th:only-of-type {\n",
       "        vertical-align: middle;\n",
       "    }\n",
       "\n",
       "    .dataframe tbody tr th {\n",
       "        vertical-align: top;\n",
       "    }\n",
       "\n",
       "    .dataframe thead th {\n",
       "        text-align: right;\n",
       "    }\n",
       "</style>\n",
       "<table border=\"1\" class=\"dataframe\">\n",
       "  <thead>\n",
       "    <tr style=\"text-align: right;\">\n",
       "      <th></th>\n",
       "      <th>Critic 1</th>\n",
       "      <th>Critic 2</th>\n",
       "      <th>Critic 3</th>\n",
       "      <th>Critic 4</th>\n",
       "      <th>Critic 5</th>\n",
       "    </tr>\n",
       "  </thead>\n",
       "  <tbody>\n",
       "    <tr>\n",
       "      <th>Critic 1</th>\n",
       "      <td>2.742857</td>\n",
       "      <td>2.000000</td>\n",
       "      <td>0.621795</td>\n",
       "      <td>1.527273</td>\n",
       "      <td>2.712121</td>\n",
       "    </tr>\n",
       "    <tr>\n",
       "      <th>Critic 2</th>\n",
       "      <td>2.000000</td>\n",
       "      <td>4.614379</td>\n",
       "      <td>-0.157143</td>\n",
       "      <td>1.236264</td>\n",
       "      <td>3.692308</td>\n",
       "    </tr>\n",
       "    <tr>\n",
       "      <th>Critic 3</th>\n",
       "      <td>0.621795</td>\n",
       "      <td>-0.157143</td>\n",
       "      <td>1.929825</td>\n",
       "      <td>0.692308</td>\n",
       "      <td>1.185897</td>\n",
       "    </tr>\n",
       "    <tr>\n",
       "      <th>Critic 4</th>\n",
       "      <td>1.527273</td>\n",
       "      <td>1.236264</td>\n",
       "      <td>0.692308</td>\n",
       "      <td>3.683824</td>\n",
       "      <td>1.931818</td>\n",
       "    </tr>\n",
       "    <tr>\n",
       "      <th>Critic 5</th>\n",
       "      <td>2.712121</td>\n",
       "      <td>3.692308</td>\n",
       "      <td>1.185897</td>\n",
       "      <td>1.931818</td>\n",
       "      <td>4.333333</td>\n",
       "    </tr>\n",
       "  </tbody>\n",
       "</table>\n",
       "</div>"
      ],
      "text/plain": [
       "          Critic 1  Critic 2  Critic 3  Critic 4  Critic 5\n",
       "Critic 1  2.742857  2.000000  0.621795  1.527273  2.712121\n",
       "Critic 2  2.000000  4.614379 -0.157143  1.236264  3.692308\n",
       "Critic 3  0.621795 -0.157143  1.929825  0.692308  1.185897\n",
       "Critic 4  1.527273  1.236264  0.692308  3.683824  1.931818\n",
       "Critic 5  2.712121  3.692308  1.185897  1.931818  4.333333"
      ]
     },
     "execution_count": 35,
     "metadata": {},
     "output_type": "execute_result"
    }
   ],
   "source": [
    "df.iloc[:, 2:7].cov()"
   ]
  },
  {
   "cell_type": "code",
   "execution_count": 21,
   "id": "13682a9e",
   "metadata": {},
   "outputs": [
    {
     "data": {
      "text/html": [
       "<div>\n",
       "<style scoped>\n",
       "    .dataframe tbody tr th:only-of-type {\n",
       "        vertical-align: middle;\n",
       "    }\n",
       "\n",
       "    .dataframe tbody tr th {\n",
       "        vertical-align: top;\n",
       "    }\n",
       "\n",
       "    .dataframe thead th {\n",
       "        text-align: right;\n",
       "    }\n",
       "</style>\n",
       "<table border=\"1\" class=\"dataframe\">\n",
       "  <thead>\n",
       "    <tr style=\"text-align: right;\">\n",
       "      <th></th>\n",
       "      <th>Critic 1</th>\n",
       "      <th>Critic 2</th>\n",
       "      <th>Critic 3</th>\n",
       "      <th>Critic 4</th>\n",
       "      <th>Critic 5</th>\n",
       "    </tr>\n",
       "  </thead>\n",
       "  <tbody>\n",
       "    <tr>\n",
       "      <th>0</th>\n",
       "      <td>-0.500</td>\n",
       "      <td>-1.224166</td>\n",
       "      <td>-0.350325</td>\n",
       "      <td>-0.568642</td>\n",
       "      <td>-0.868243</td>\n",
       "    </tr>\n",
       "    <tr>\n",
       "      <th>1</th>\n",
       "      <td>NaN</td>\n",
       "      <td>NaN</td>\n",
       "      <td>-1.089899</td>\n",
       "      <td>-2.179793</td>\n",
       "      <td>-0.868243</td>\n",
       "    </tr>\n",
       "    <tr>\n",
       "      <th>2</th>\n",
       "      <td>-1.125</td>\n",
       "      <td>-0.266123</td>\n",
       "      <td>0.389249</td>\n",
       "      <td>-0.568642</td>\n",
       "      <td>-0.868243</td>\n",
       "    </tr>\n",
       "    <tr>\n",
       "      <th>3</th>\n",
       "      <td>NaN</td>\n",
       "      <td>-1.224166</td>\n",
       "      <td>-1.089899</td>\n",
       "      <td>0.505459</td>\n",
       "      <td>-0.868243</td>\n",
       "    </tr>\n",
       "    <tr>\n",
       "      <th>4</th>\n",
       "      <td>0.125</td>\n",
       "      <td>-0.745145</td>\n",
       "      <td>NaN</td>\n",
       "      <td>-0.031591</td>\n",
       "      <td>0.124035</td>\n",
       "    </tr>\n",
       "  </tbody>\n",
       "</table>\n",
       "</div>"
      ],
      "text/plain": [
       "   Critic 1  Critic 2  Critic 3  Critic 4  Critic 5\n",
       "0    -0.500 -1.224166 -0.350325 -0.568642 -0.868243\n",
       "1       NaN       NaN -1.089899 -2.179793 -0.868243\n",
       "2    -1.125 -0.266123  0.389249 -0.568642 -0.868243\n",
       "3       NaN -1.224166 -1.089899  0.505459 -0.868243\n",
       "4     0.125 -0.745145       NaN -0.031591  0.124035"
      ]
     },
     "execution_count": 21,
     "metadata": {},
     "output_type": "execute_result"
    }
   ],
   "source": [
    "df.iloc[:, 2:7] = (df.iloc[:, 2:7] - df.iloc[:, 2:7].mean(axis = 0))/np.std(df.iloc[:, 2:7])\n",
    "df.iloc[:, 2:7].head()"
   ]
  },
  {
   "cell_type": "markdown",
   "id": "be1b0ae9",
   "metadata": {},
   "source": [
    "Calculate the covariance matrix"
   ]
  },
  {
   "cell_type": "code",
   "execution_count": 23,
   "id": "c6962f9e",
   "metadata": {},
   "outputs": [
    {
     "data": {
      "text/html": [
       "<div>\n",
       "<style scoped>\n",
       "    .dataframe tbody tr th:only-of-type {\n",
       "        vertical-align: middle;\n",
       "    }\n",
       "\n",
       "    .dataframe tbody tr th {\n",
       "        vertical-align: top;\n",
       "    }\n",
       "\n",
       "    .dataframe thead th {\n",
       "        text-align: right;\n",
       "    }\n",
       "</style>\n",
       "<table border=\"1\" class=\"dataframe\">\n",
       "  <thead>\n",
       "    <tr style=\"text-align: right;\">\n",
       "      <th></th>\n",
       "      <th>Critic 1</th>\n",
       "      <th>Critic 2</th>\n",
       "      <th>Critic 3</th>\n",
       "      <th>Critic 4</th>\n",
       "      <th>Critic 5</th>\n",
       "    </tr>\n",
       "  </thead>\n",
       "  <tbody>\n",
       "    <tr>\n",
       "      <th>Critic 1</th>\n",
       "      <td>1.071429</td>\n",
       "      <td>0.598777</td>\n",
       "      <td>0.287415</td>\n",
       "      <td>0.512639</td>\n",
       "      <td>0.840993</td>\n",
       "    </tr>\n",
       "    <tr>\n",
       "      <th>Critic 2</th>\n",
       "      <td>0.598777</td>\n",
       "      <td>1.058824</td>\n",
       "      <td>-0.055671</td>\n",
       "      <td>0.318040</td>\n",
       "      <td>0.877519</td>\n",
       "    </tr>\n",
       "    <tr>\n",
       "      <th>Critic 3</th>\n",
       "      <td>0.287415</td>\n",
       "      <td>-0.055671</td>\n",
       "      <td>1.055556</td>\n",
       "      <td>0.274977</td>\n",
       "      <td>0.435143</td>\n",
       "    </tr>\n",
       "    <tr>\n",
       "      <th>Critic 4</th>\n",
       "      <td>0.512639</td>\n",
       "      <td>0.318040</td>\n",
       "      <td>0.274977</td>\n",
       "      <td>1.062500</td>\n",
       "      <td>0.514736</td>\n",
       "    </tr>\n",
       "    <tr>\n",
       "      <th>Critic 5</th>\n",
       "      <td>0.840993</td>\n",
       "      <td>0.877519</td>\n",
       "      <td>0.435143</td>\n",
       "      <td>0.514736</td>\n",
       "      <td>1.066667</td>\n",
       "    </tr>\n",
       "  </tbody>\n",
       "</table>\n",
       "</div>"
      ],
      "text/plain": [
       "          Critic 1  Critic 2  Critic 3  Critic 4  Critic 5\n",
       "Critic 1  1.071429  0.598777  0.287415  0.512639  0.840993\n",
       "Critic 2  0.598777  1.058824 -0.055671  0.318040  0.877519\n",
       "Critic 3  0.287415 -0.055671  1.055556  0.274977  0.435143\n",
       "Critic 4  0.512639  0.318040  0.274977  1.062500  0.514736\n",
       "Critic 5  0.840993  0.877519  0.435143  0.514736  1.066667"
      ]
     },
     "execution_count": 23,
     "metadata": {},
     "output_type": "execute_result"
    }
   ],
   "source": [
    "df.iloc[:, 2:7].cov()"
   ]
  },
  {
   "cell_type": "code",
   "execution_count": null,
   "id": "86247e8a",
   "metadata": {},
   "outputs": [],
   "source": []
  },
  {
   "cell_type": "markdown",
   "id": "60bcb996",
   "metadata": {},
   "source": [
    "Linear regression + Random forest regression (feature importance)"
   ]
  }
 ],
 "metadata": {
  "kernelspec": {
   "display_name": "Python 3 (ipykernel)",
   "language": "python",
   "name": "python3"
  },
  "language_info": {
   "codemirror_mode": {
    "name": "ipython",
    "version": 3
   },
   "file_extension": ".py",
   "mimetype": "text/x-python",
   "name": "python",
   "nbconvert_exporter": "python",
   "pygments_lexer": "ipython3",
   "version": "3.9.7"
  }
 },
 "nbformat": 4,
 "nbformat_minor": 5
}
